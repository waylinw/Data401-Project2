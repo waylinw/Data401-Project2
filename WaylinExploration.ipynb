{
 "cells": [
  {
   "cell_type": "code",
   "execution_count": 14,
   "metadata": {
    "collapsed": true
   },
   "outputs": [],
   "source": [
    "import pandas as pd\n",
    "import numpy as np\n",
    "from sklearn.linear_model import LogisticRegressionCV\n",
    "from pandas.io import sql\n",
    "from sqlalchemy import create_engine, inspect\n",
    "from nltk.tokenize import word_tokenize          \n",
    "from sklearn.feature_extraction.text import TfidfVectorizer\n",
    "import operator"
   ]
  },
  {
   "cell_type": "markdown",
   "metadata": {},
   "source": [
    "## Get the data we want to analyze"
   ]
  },
  {
   "cell_type": "code",
   "execution_count": 2,
   "metadata": {
    "collapsed": false
   },
   "outputs": [],
   "source": [
    "files = ['/data/reddit1.csv', \n",
    "         '/data/reddit2.csv',\n",
    "         '/data/reddit3.csv',\n",
    "         '/data/reddit4.csv',\n",
    "         '/data/reddit5.csv',\n",
    "         '/data/reddit6.csv',\n",
    "         '/data/reddit7.csv',\n",
    "         '/data/reddit8.csv',\n",
    "         '/data/reddit9.csv',\n",
    "         '/data/reddit10.csv']\n",
    "\n",
    "finalDf = pd.DataFrame()\n",
    "\n",
    "for file in files:\n",
    "    df = pd.read_csv(\"/data/reddit1.csv\")\n",
    "    df = df[['body', 'created_utc', 'controversiality']]\n",
    "    #adding the controversial \n",
    "    controversial = df[df['controversiality'] == 1].copy().reset_index()\n",
    "    del controversial['index']\n",
    "    finalDf = finalDf.append(controversial,ignore_index = True)\n",
    "    #adding the non-controversial \n",
    "    non_controversial = df[df['controversiality'] == 0].sample(frac=0.1, replace=False).copy().reset_index()\n",
    "    del non_controversial['index']\n",
    "    finalDf = finalDf.append(non_controversial, ignore_index = True)\n",
    "\n",
    "df = finalDf"
   ]
  },
  {
   "cell_type": "markdown",
   "metadata": {},
   "source": [
    "# Need to create columns for \n",
    "    1. Time of Day\n",
    "    2. Day of Week\n",
    "    3. Word Count\n",
    "    4. top 500 word for controversial (tfidf value)\n",
    "    5. top 500 word for non-controversial (tfidf value)"
   ]
  },
  {
   "cell_type": "code",
   "execution_count": 9,
   "metadata": {
    "collapsed": false
   },
   "outputs": [],
   "source": [
    "df['body'] = df['body'].astype('str')\n",
    "df['length']=df['body'].str.split(' ').str.len()"
   ]
  },
  {
   "cell_type": "code",
   "execution_count": null,
   "metadata": {
    "collapsed": false
   },
   "outputs": [],
   "source": []
  },
  {
   "cell_type": "markdown",
   "metadata": {},
   "source": [
    "### Construct contraversial word list"
   ]
  },
  {
   "cell_type": "code",
   "execution_count": 55,
   "metadata": {
    "collapsed": false
   },
   "outputs": [],
   "source": [
    "controversial = df[df['controversiality'] == 1]\n",
    "comments = controversial['body']\n",
    "vectorizer = TfidfVectorizer(min_df=1)\n",
    "X = vectorizer.fit_transform(comments)\n",
    "idf = vectorizer.idf_\n",
    "\n",
    "tfidf_score = dict(zip(vectorizer.get_feature_names(), idf))\n",
    "tfidf_score_sorted = sorted(tfidf_score.items(), key=operator.itemgetter(1), reverse=True)\n",
    "\n",
    "controversial_words = list( tfidf_score_sorted[:500][x][0] for x in range(500))"
   ]
  },
  {
   "cell_type": "code",
   "execution_count": 57,
   "metadata": {
    "collapsed": false
   },
   "outputs": [],
   "source": [
    "non_controversial = df[df['controversiality'] == 0]\n",
    "comments = non_controversial['body']\n",
    "vectorizer = TfidfVectorizer(min_df=1)\n",
    "X = vectorizer.fit_transform(comments)\n",
    "idf = vectorizer.idf_\n",
    "\n",
    "tfidf_score = dict(zip(vectorizer.get_feature_names(), idf))\n",
    "tfidf_score_sorted = sorted(tfidf_score.items(), key=operator.itemgetter(1), reverse=True)\n",
    "\n",
    "non_controversial_words = list( tfidf_score_sorted[:500][x][0] for x in range(500))"
   ]
  },
  {
   "cell_type": "code",
   "execution_count": null,
   "metadata": {
    "collapsed": true
   },
   "outputs": [],
   "source": []
  },
  {
   "cell_type": "code",
   "execution_count": null,
   "metadata": {
    "collapsed": true
   },
   "outputs": [],
   "source": []
  },
  {
   "cell_type": "code",
   "execution_count": null,
   "metadata": {
    "collapsed": false
   },
   "outputs": [],
   "source": []
  },
  {
   "cell_type": "markdown",
   "metadata": {},
   "source": [
    "## Ignore"
   ]
  },
  {
   "cell_type": "code",
   "execution_count": null,
   "metadata": {
    "collapsed": false
   },
   "outputs": [],
   "source": [
    "from nltk.tokenize import word_tokenize          \n",
    "import operator\n",
    "\n",
    "df['body'] = df['body'].astype('str')\n",
    "\n",
    "comments = df['body']\n",
    "\n",
    "word_count={}\n",
    "punctuations = '''`!()-[]{};:'\"\\,<>./?@#$%^&*_~=+ '''\n",
    "\n",
    "for comment in comments:\n",
    "    for word in word_tokenize(comment.lower()):\n",
    "        if word not in punctuations:\n",
    "            if word in word_count:\n",
    "                word_count[word] += 1\n",
    "            else:\n",
    "                word_count[word] = 1\n",
    "\n",
    "sorted_x = sorted(word_count.items(), key=operator.itemgetter(1), reverse=True)"
   ]
  },
  {
   "cell_type": "code",
   "execution_count": null,
   "metadata": {
    "collapsed": false
   },
   "outputs": [],
   "source": []
  },
  {
   "cell_type": "code",
   "execution_count": null,
   "metadata": {
    "collapsed": false
   },
   "outputs": [],
   "source": []
  },
  {
   "cell_type": "code",
   "execution_count": null,
   "metadata": {
    "collapsed": true
   },
   "outputs": [],
   "source": []
  }
 ],
 "metadata": {
  "kernelspec": {
   "display_name": "Python 3",
   "language": "python",
   "name": "python3"
  },
  "language_info": {
   "codemirror_mode": {
    "name": "ipython",
    "version": 3
   },
   "file_extension": ".py",
   "mimetype": "text/x-python",
   "name": "python",
   "nbconvert_exporter": "python",
   "pygments_lexer": "ipython3",
   "version": "3.5.2"
  }
 },
 "nbformat": 4,
 "nbformat_minor": 1
}

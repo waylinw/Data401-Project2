{
 "cells": [
  {
   "cell_type": "code",
   "execution_count": 26,
   "metadata": {
    "collapsed": false
   },
   "outputs": [],
   "source": [
    "import pandas as pd\n",
    "import numpy as np\n",
    "from sklearn.linear_model import LassoCV\n",
    "from sklearn.linear_model import Lasso\n",
    "from sklearn.linear_model import ElasticNetCV\n",
    "from sklearn.linear_model import ElasticNet\n",
    "from sklearn.cross_validation import cross_val_score \n",
    "from sklearn.linear_model import LogisticRegression \n",
    "from sklearn.linear_model import LogisticRegressionCV          \n",
    "from sklearn.feature_extraction.text import TfidfVectorizer\n",
    "from sklearn.feature_selection import SelectKBest\n",
    "from sklearn.feature_selection import SelectPercentile\n",
    "from sklearn.feature_selection import chi2\n",
    "from sklearn.feature_selection import SelectFromModel\n",
    "import operator"
   ]
  },
  {
   "cell_type": "markdown",
   "metadata": {},
   "source": [
    "## Get the data we want to analyze"
   ]
  },
  {
   "cell_type": "code",
   "execution_count": 2,
   "metadata": {
    "collapsed": false
   },
   "outputs": [],
   "source": [
    "train = ['/data/reddit1.csv', \n",
    "         '/data/reddit2.csv',\n",
    "         '/data/reddit3.csv',\n",
    "         '/data/reddit4.csv',\n",
    "         '/data/reddit5.csv']\n",
    "\n",
    "test =  ['/data/reddit6.csv',\n",
    "         '/data/reddit7.csv',\n",
    "         '/data/reddit8.csv',\n",
    "         '/data/reddit9.csv',\n",
    "         '/data/reddit10.csv']\n",
    "\n",
    "finalDf = pd.DataFrame()\n",
    "finalDf2 = pd.DataFrame()\n",
    "\n",
    "for file in train:\n",
    "    df = pd.read_csv(file)\n",
    "    df = df[['body', 'created_utc', 'controversiality']]\n",
    "    #adding the controversial \n",
    "    controversial = df[df['controversiality'] == 1].copy().reset_index()\n",
    "    del controversial['index']\n",
    "    finalDf = finalDf.append(controversial,ignore_index = True)\n",
    "    #adding the non-controversial \n",
    "    non_controversial = df[df['controversiality'] == 0].sample(frac=0.03, replace=False).copy().reset_index()\n",
    "    del non_controversial['index']\n",
    "    finalDf = finalDf.append(non_controversial, ignore_index = True)\n",
    "\n",
    "df_train = finalDf\n",
    "\n",
    "for file in test:\n",
    "    df = pd.read_csv(file)\n",
    "    df = df[['body', 'created_utc', 'controversiality']]\n",
    "    #adding the controversial \n",
    "    controversial = df[df['controversiality'] == 1].copy().reset_index()\n",
    "    del controversial['index']\n",
    "    finalDf2 = finalDf2.append(controversial,ignore_index = True)\n",
    "    #adding the non-controversial \n",
    "    non_controversial = df[df['controversiality'] == 0].sample(frac=0.03, replace=False).copy().reset_index()\n",
    "    del non_controversial['index']\n",
    "    finalDf2 = finalDf2.append(non_controversial, ignore_index = True)\n",
    "\n",
    "df_test = finalDf2\n",
    "\n",
    "del df"
   ]
  },
  {
   "cell_type": "code",
   "execution_count": 3,
   "metadata": {
    "collapsed": false
   },
   "outputs": [],
   "source": [
    "df_train = df_train.drop('created_utc', axis=1)\n",
    "df_train['body'] = df_train['body'].astype(str)\n",
    "\n",
    "df_test = df_test.drop('created_utc', axis=1)\n",
    "df_test['body'] = df_test['body'].astype(str)"
   ]
  },
  {
   "cell_type": "code",
   "execution_count": 4,
   "metadata": {
    "collapsed": false
   },
   "outputs": [],
   "source": [
    "Y_train = df_train.controversiality\n",
    "Y_test = df_test.controversiality"
   ]
  },
  {
   "cell_type": "code",
   "execution_count": 17,
   "metadata": {
    "collapsed": false
   },
   "outputs": [],
   "source": [
    "vectorizer = TfidfVectorizer(sublinear_tf=True, max_df=0.5, stop_words='english', analyzer=\"word\")\n",
    "X_train_tfidf = vectorizer.fit_transform(df_train.body)\n",
    "X_test_tfidf = vectorizer.transform(df_test.body)"
   ]
  },
  {
   "cell_type": "code",
   "execution_count": 34,
   "metadata": {
    "collapsed": false
   },
   "outputs": [
    {
     "name": "stdout",
     "output_type": "stream",
     "text": [
      "(269775, 2)\n",
      "(269775, 169058)\n",
      "(264719, 2)\n",
      "(264719, 169058)\n",
      "  (0, 88767)\t0.176662689981\n",
      "  (0, 82619)\t0.106451022602\n",
      "  (0, 73596)\t0.203820642187\n",
      "  (0, 159749)\t0.183968169192\n",
      "  (0, 26156)\t0.285665338763\n",
      "  (0, 47702)\t0.157232238637\n",
      "  (0, 89541)\t0.194282103652\n",
      "  (0, 71813)\t0.203084519354\n",
      "  (0, 125733)\t0.468540397632\n",
      "  (0, 129310)\t0.467578771188\n",
      "  (0, 66533)\t0.225719532569\n",
      "  (0, 39167)\t0.343297947997\n",
      "  (0, 60269)\t0.299654821251\n"
     ]
    }
   ],
   "source": [
    "print(df_train.shape)\n",
    "print(X_train_tfidf.shape)\n",
    "print(df_test.shape)\n",
    "print(X_test_tfidf.shape)\n",
    "print(X_train_tfidf.getrow(1))"
   ]
  },
  {
   "cell_type": "markdown",
   "metadata": {},
   "source": [
    "### Attempting to feature select"
   ]
  },
  {
   "cell_type": "code",
   "execution_count": 19,
   "metadata": {
    "collapsed": false
   },
   "outputs": [
    {
     "name": "stdout",
     "output_type": "stream",
     "text": [
      "Extracting 60000 best features by a chi-squared test\n"
     ]
    }
   ],
   "source": [
    "numFeatures = 60000\n",
    "feature_names = vectorizer.get_feature_names()\n",
    "print(\"Extracting %d best features by a chi-squared test\" % numFeatures)\n",
    "ch2 = SelectKBest(chi2, k=numFeatures)\n",
    "X_train = ch2.fit_transform(X_train_tfidf, Y_train)\n",
    "X_test = ch2.transform(X_test_tfidf)\n",
    "feature_names = [feature_names[i] for i in ch2.get_support(indices=True)]"
   ]
  },
  {
   "cell_type": "code",
   "execution_count": null,
   "metadata": {
    "collapsed": true
   },
   "outputs": [],
   "source": [
    "# lasso = LassoCV(cv = 10, n_alphas=50, max_iter=100000, normalize=True)\n",
    "# lasso.fit(X_train_tfidf, Y_train)"
   ]
  },
  {
   "cell_type": "code",
   "execution_count": null,
   "metadata": {
    "collapsed": false
   },
   "outputs": [],
   "source": [
    "# sfm = SelectFromModel(LassoCV(cv = 10, n_alphas=50, max_iter=100000, normalize=True), threshold='median')\n",
    "# sfm.fit(X_train_tfidf, Y_train)\n",
    "# n_features = sfm.transform(X_train_tfidf).shape[1]"
   ]
  },
  {
   "cell_type": "code",
   "execution_count": 30,
   "metadata": {
    "collapsed": false
   },
   "outputs": [
    {
     "data": {
      "text/plain": [
       "ElasticNet(alpha=0.05, copy_X=True, fit_intercept=True, l1_ratio=0.5,\n",
       "      max_iter=100000, normalize=True, positive=False, precompute=False,\n",
       "      random_state=None, selection='cyclic', tol=0.0001, warm_start=False)"
      ]
     },
     "execution_count": 30,
     "metadata": {},
     "output_type": "execute_result"
    }
   ],
   "source": [
    "elastic_fit = ElasticNet(alpha=.05,l1_ratio=.5,max_iter=100000,normalize=True)\n",
    "elastic_fit.fit(X_train,Y_train)\n"
   ]
  },
  {
   "cell_type": "code",
   "execution_count": 31,
   "metadata": {
    "collapsed": false
   },
   "outputs": [
    {
     "data": {
      "text/plain": [
       "0.0"
      ]
     },
     "execution_count": 31,
     "metadata": {},
     "output_type": "execute_result"
    }
   ],
   "source": [
    "sum(elastic_fit.coef_)"
   ]
  },
  {
   "cell_type": "markdown",
   "metadata": {},
   "source": [
    "# Logistic Regression, the easy part"
   ]
  },
  {
   "cell_type": "code",
   "execution_count": 20,
   "metadata": {
    "collapsed": false
   },
   "outputs": [
    {
     "data": {
      "text/plain": [
       "LogisticRegression(C=1.0, class_weight=None, dual=False, fit_intercept=True,\n",
       "          intercept_scaling=1, max_iter=100, multi_class='ovr', n_jobs=1,\n",
       "          penalty='l2', random_state=None, solver='liblinear', tol=0.0001,\n",
       "          verbose=0, warm_start=False)"
      ]
     },
     "execution_count": 20,
     "metadata": {},
     "output_type": "execute_result"
    }
   ],
   "source": [
    "model = LogisticRegression()\n",
    "model.fit(X_train, Y_train)"
   ]
  },
  {
   "cell_type": "code",
   "execution_count": 21,
   "metadata": {
    "collapsed": false
   },
   "outputs": [
    {
     "data": {
      "text/plain": [
       "0.70420906310814568"
      ]
     },
     "execution_count": 21,
     "metadata": {},
     "output_type": "execute_result"
    }
   ],
   "source": [
    "model.score(X_train, Y_train)"
   ]
  },
  {
   "cell_type": "code",
   "execution_count": 22,
   "metadata": {
    "collapsed": false
   },
   "outputs": [
    {
     "data": {
      "text/plain": [
       "0.6529489760840741"
      ]
     },
     "execution_count": 22,
     "metadata": {},
     "output_type": "execute_result"
    }
   ],
   "source": [
    "model.score(X_test, Y_test)"
   ]
  },
  {
   "cell_type": "markdown",
   "metadata": {},
   "source": [
    "# Ignore for now"
   ]
  },
  {
   "cell_type": "markdown",
   "metadata": {},
   "source": [
    "# Need to create columns for \n",
    "    1. Time of Day\n",
    "    2. Day of Week\n",
    "    3. Word Count\n",
    "    4. top 500 word for controversial (tfidf value)\n",
    "    5. top 500 word for non-controversial (tfidf value)"
   ]
  },
  {
   "cell_type": "code",
   "execution_count": null,
   "metadata": {
    "collapsed": false
   },
   "outputs": [],
   "source": [
    "df['body'] = df['body'].astype('str')\n",
    "df['length']=df['body'].str.split(' ').str.len()"
   ]
  },
  {
   "cell_type": "markdown",
   "metadata": {},
   "source": [
    "### Construct contraversial word list"
   ]
  },
  {
   "cell_type": "code",
   "execution_count": null,
   "metadata": {
    "collapsed": false
   },
   "outputs": [],
   "source": [
    "del df['created_utc']\n",
    "top_n_words = 300"
   ]
  },
  {
   "cell_type": "code",
   "execution_count": null,
   "metadata": {
    "collapsed": false
   },
   "outputs": [],
   "source": [
    "controversial = df[df['controversiality'] == 1]\n",
    "comments = controversial['body']\n",
    "vectorizer = TfidfVectorizer(min_df=1, stop_words='english', analyzer='word')\n",
    "X = vectorizer.fit_transform(comments)\n",
    "idf = vectorizer.idf_\n",
    "\n",
    "tfidf_score = dict(zip(vectorizer.get_feature_names(), idf))\n",
    "tfidf_score_sorted = sorted(tfidf_score.items(), key=operator.itemgetter(1), reverse=True)\n",
    "\n",
    "controversial_words = list( tfidf_score_sorted[:top_n_words][x][0] for x in range(top_n_words))"
   ]
  },
  {
   "cell_type": "code",
   "execution_count": null,
   "metadata": {
    "collapsed": false
   },
   "outputs": [],
   "source": [
    "non_controversial = df[df['controversiality'] == 0]\n",
    "comments = non_controversial['body']\n",
    "vectorizer = TfidfVectorizer(min_df=1, stop_words='english', analyzer='word')\n",
    "X = vectorizer.fit_transform(comments)\n",
    "idf = vectorizer.idf_\n",
    "\n",
    "tfidf_score = dict(zip(vectorizer.get_feature_names(), idf))\n",
    "tfidf_score_sorted = sorted(tfidf_score.items(), key=operator.itemgetter(1), reverse=True)\n",
    "\n",
    "non_controversial_words = list( tfidf_score_sorted[:top_n_words][x][0] for x in range(top_n_words))"
   ]
  },
  {
   "cell_type": "code",
   "execution_count": null,
   "metadata": {
    "collapsed": false
   },
   "outputs": [],
   "source": [
    "words=[]\n",
    "for word in non_controversial_words: \n",
    "    df[word+'count']=0\n",
    "    words.append(word)\n",
    "for word in controversial_words:\n",
    "    df[word+'count']=0\n",
    "    words.append(word)"
   ]
  },
  {
   "cell_type": "code",
   "execution_count": null,
   "metadata": {
    "collapsed": false
   },
   "outputs": [],
   "source": [
    "# dict for easy lookup\n",
    "ws = {}\n",
    "for w in words:\n",
    "    ws[w] = True\n",
    "\n",
    "import re\n",
    "d = {}\n",
    "for row in df.itertuples():\n",
    "    for word in re.findall(r\"[\\w']+\", row[1].strip().lower()):\n",
    "        if word in ws:\n",
    "            if (word+'count', row[0]) not in d:\n",
    "                d[(word+'count', row[0])] = 0\n",
    "            d[(word+'count', row[0])] += 1    \n",
    "            \n",
    "# add the dict to df            \n",
    "for (w, i) in d:\n",
    "    df.set_value(i, w, d[(w, i)])\n",
    "\n",
    "del d"
   ]
  },
  {
   "cell_type": "code",
   "execution_count": null,
   "metadata": {
    "collapsed": false
   },
   "outputs": [],
   "source": [
    "# Verify that sum > 0\n",
    "num = 0\n",
    "sums = []\n",
    "cols_to_drop=[]\n",
    "for col in df.columns:\n",
    "    if col != 'body':\n",
    "        su = sum(df[col])\n",
    "        sums.append(su)\n",
    "        if su == 0:\n",
    "            num += 1\n",
    "            cols_to_drop.append(col)\n",
    "# TODO: Delete cols that have sum 0            \n",
    "print(\"there are %d columns that are empty.\" % num)\n",
    "df = df.drop(cols_to_drop, axis = 1)"
   ]
  },
  {
   "cell_type": "code",
   "execution_count": null,
   "metadata": {
    "collapsed": false
   },
   "outputs": [],
   "source": [
    "X = df.drop(['controversiality', 'body'], axis = 1)\n",
    "y = df['controversiality']\n",
    "lasso_fit = LassoCV(cv = 10, n_alphas=50, max_iter=100000, normalize=True)\n",
    "lasso_fit.fit(X, y)"
   ]
  },
  {
   "cell_type": "code",
   "execution_count": null,
   "metadata": {
    "collapsed": false
   },
   "outputs": [],
   "source": [
    "elastic_fit=ElasticNet(alpha=5,l1_ratio=.5,max_iter=100000,normalize=True)\n",
    "elastic_fit.fit(X,y)\n",
    "elastic_fit.coef_"
   ]
  },
  {
   "cell_type": "code",
   "execution_count": null,
   "metadata": {
    "collapsed": false
   },
   "outputs": [],
   "source": [
    "col=[]\n",
    "for i in range(len(lasso_fit.coef_)):\n",
    "    if lasso_fit.coef_[i]!=0:\n",
    "        col.append(i + 2)\n",
    "\n",
    "print(col)"
   ]
  },
  {
   "cell_type": "code",
   "execution_count": null,
   "metadata": {
    "collapsed": false
   },
   "outputs": [],
   "source": [
    "X_logistic = df.ix[:, col]"
   ]
  },
  {
   "cell_type": "code",
   "execution_count": null,
   "metadata": {
    "collapsed": false
   },
   "outputs": [],
   "source": []
  },
  {
   "cell_type": "code",
   "execution_count": null,
   "metadata": {
    "collapsed": false
   },
   "outputs": [],
   "source": [
    "from sklearn.linear_model import LogisticRegression\n",
    "model1=LogisticRegression\n",
    "model1.fit(X_logistic, y)\n"
   ]
  },
  {
   "cell_type": "code",
   "execution_count": null,
   "metadata": {
    "collapsed": false
   },
   "outputs": [],
   "source": [
    "print(len(df.ix[df['controversiality']==0])/len(df))\n",
    "print(len(df[df['controversiality'] == 1]) )"
   ]
  },
  {
   "cell_type": "code",
   "execution_count": null,
   "metadata": {
    "collapsed": true
   },
   "outputs": [],
   "source": []
  },
  {
   "cell_type": "code",
   "execution_count": null,
   "metadata": {
    "collapsed": true
   },
   "outputs": [],
   "source": []
  },
  {
   "cell_type": "code",
   "execution_count": null,
   "metadata": {
    "collapsed": true
   },
   "outputs": [],
   "source": []
  }
 ],
 "metadata": {
  "kernelspec": {
   "display_name": "Python 3",
   "language": "python",
   "name": "python3"
  },
  "language_info": {
   "codemirror_mode": {
    "name": "ipython",
    "version": 3
   },
   "file_extension": ".py",
   "mimetype": "text/x-python",
   "name": "python",
   "nbconvert_exporter": "python",
   "pygments_lexer": "ipython3",
   "version": "3.5.2"
  }
 },
 "nbformat": 4,
 "nbformat_minor": 1
}

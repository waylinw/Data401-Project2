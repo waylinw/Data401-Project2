{
 "cells": [
  {
   "cell_type": "code",
   "execution_count": 2,
   "metadata": {
    "collapsed": true
   },
   "outputs": [],
   "source": [
    "import pandas as pd\n",
    "import numpy as np\n",
    "from sklearn.linear_model import LogisticRegressionCV\n",
    "from pandas.io import sql\n",
    "from sqlalchemy import create_engine, inspect\n",
    "from nltk.tokenize import word_tokenize          \n",
    "from sklearn.feature_extraction.text import TfidfVectorizer\n",
    "import operator"
   ]
  },
  {
   "cell_type": "markdown",
   "metadata": {},
   "source": [
    "## Get the data we want to analyze"
   ]
  },
  {
   "cell_type": "code",
   "execution_count": 27,
   "metadata": {
    "collapsed": false
   },
   "outputs": [],
   "source": [
    "files = ['/data/reddit1.csv', \n",
    "         '/data/reddit2.csv',\n",
    "         '/data/reddit3.csv',\n",
    "         '/data/reddit4.csv',\n",
    "         '/data/reddit5.csv',\n",
    "         '/data/reddit6.csv',\n",
    "         '/data/reddit7.csv',\n",
    "         '/data/reddit8.csv',\n",
    "         '/data/reddit9.csv',\n",
    "         '/data/reddit10.csv']\n",
    "\n",
    "finalDf = pd.DataFrame()\n",
    "\n",
    "for file in files:\n",
    "    df = pd.read_csv(\"/data/reddit1.csv\")\n",
    "    df = df[['body', 'created_utc', 'controversiality']]\n",
    "    #adding the controversial \n",
    "    controversial = df[df['controversiality'] == 1].copy().reset_index()\n",
    "    del controversial['index']\n",
    "    finalDf = finalDf.append(controversial,ignore_index = True)\n",
    "    #adding the non-controversial \n",
    "    non_controversial = df[df['controversiality'] == 0].sample(frac=0.1, replace=False).copy().reset_index()\n",
    "    del non_controversial['index']\n",
    "    finalDf = finalDf.append(non_controversial, ignore_index = True)\n",
    "\n",
    "df = finalDf"
   ]
  },
  {
   "cell_type": "markdown",
   "metadata": {},
   "source": [
    "# Need to create columns for \n",
    "    1. Time of Day\n",
    "    2. Day of Week\n",
    "    3. Word Count\n",
    "    4. top 500 word for controversial (tfidf value)\n",
    "    5. top 500 word for non-controversial (tfidf value)"
   ]
  },
  {
   "cell_type": "code",
   "execution_count": 28,
   "metadata": {
    "collapsed": false
   },
   "outputs": [],
   "source": [
    "df['body'] = df['body'].astype('str')\n",
    "df['length']=df['body'].str.split(' ').str.len()"
   ]
  },
  {
   "cell_type": "markdown",
   "metadata": {},
   "source": [
    "### Construct contraversial word list"
   ]
  },
  {
   "cell_type": "code",
   "execution_count": 71,
   "metadata": {
    "collapsed": false
   },
   "outputs": [],
   "source": [
    "top_n_words = 500"
   ]
  },
  {
   "cell_type": "code",
   "execution_count": 33,
   "metadata": {
    "collapsed": false
   },
   "outputs": [],
   "source": [
    "controversial = df[df['controversiality'] == 1]\n",
    "comments = controversial['body']\n",
    "vectorizer = TfidfVectorizer(min_df=1, stop_words='english', analyzer='word')\n",
    "X = vectorizer.fit_transform(comments)\n",
    "idf = vectorizer.idf_\n",
    "\n",
    "tfidf_score = dict(zip(vectorizer.get_feature_names(), idf))\n",
    "tfidf_score_sorted = sorted(tfidf_score.items(), key=operator.itemgetter(1), reverse=True)\n",
    "\n",
    "controversial_words = list( tfidf_score_sorted[:top_n_words][x][0] for x in range(top_n_words))"
   ]
  },
  {
   "cell_type": "code",
   "execution_count": 34,
   "metadata": {
    "collapsed": false
   },
   "outputs": [],
   "source": [
    "non_controversial = df[df['controversiality'] == 0]\n",
    "comments = non_controversial['body']\n",
    "vectorizer = TfidfVectorizer(min_df=1, stop_words='english', analyzer='word')\n",
    "X = vectorizer.fit_transform(comments)\n",
    "idf = vectorizer.idf_\n",
    "\n",
    "tfidf_score = dict(zip(vectorizer.get_feature_names(), idf))\n",
    "tfidf_score_sorted = sorted(tfidf_score.items(), key=operator.itemgetter(1), reverse=True)\n",
    "\n",
    "non_controversial_words = list( tfidf_score_sorted[:top_n_words][x][0] for x in range(top_n_words))"
   ]
  },
  {
   "cell_type": "code",
   "execution_count": 35,
   "metadata": {
    "collapsed": false
   },
   "outputs": [],
   "source": [
    "words=[]\n",
    "for word in non_controversial_words: \n",
    "    df[word+'count']=0\n",
    "    words.append(word)\n",
    "for word in controversial_words:\n",
    "    df[word+'count']=0\n",
    "    words.append(word)"
   ]
  },
  {
   "cell_type": "code",
   "execution_count": 38,
   "metadata": {
    "collapsed": false
   },
   "outputs": [],
   "source": [
    "# dict for easy lookup\n",
    "ws = {}\n",
    "for w in words:\n",
    "    ws[w] = True\n",
    "\n",
    "import re\n",
    "d = {}\n",
    "for row in df.itertuples():\n",
    "    for word in re.findall(r\"[\\w']+\", row[1].strip().lower()):\n",
    "        if word in ws:\n",
    "            if (word+'count', row[0]) not in d:\n",
    "                d[(word+'count', row[0])] = 0\n",
    "            d[(word+'count', row[0])] += 1    \n",
    "            \n",
    "# add the dict to df            \n",
    "for (w, i) in d:\n",
    "    df.set_value(i, w, d[(w, i)])\n",
    "\n",
    "del d"
   ]
  },
  {
   "cell_type": "code",
   "execution_count": 40,
   "metadata": {
    "collapsed": false
   },
   "outputs": [
    {
     "data": {
      "text/plain": [
       "156"
      ]
     },
     "execution_count": 40,
     "metadata": {},
     "output_type": "execute_result"
    }
   ],
   "source": [
    "# Verify that sum > 0\n",
    "num = 0\n",
    "for col in df.columns:\n",
    "    if col != 'body':\n",
    "        if sum(df[col]) == 0:\n",
    "            num += 1\n",
    "# TODO: Delete cols that have sum 0            \n",
    "num"
   ]
  },
  {
   "cell_type": "code",
   "execution_count": 15,
   "metadata": {
    "collapsed": false,
    "scrolled": true
   },
   "outputs": [
    {
     "data": {
      "text/html": [
       "<div>\n",
       "<table border=\"1\" class=\"dataframe\">\n",
       "  <thead>\n",
       "    <tr style=\"text-align: right;\">\n",
       "      <th></th>\n",
       "      <th>body</th>\n",
       "      <th>created_utc</th>\n",
       "      <th>controversiality</th>\n",
       "      <th>length</th>\n",
       "      <th>つーかリンク先読んだらナチュラルにテンプレ通りの政治スレ禁止厨でワロタcount</th>\n",
       "      <th>starlogcount</th>\n",
       "      <th>mincomecount</th>\n",
       "      <th>母乳って元々血液なんだっけcount</th>\n",
       "      <th>bulletingcount</th>\n",
       "      <th>inexorablycount</th>\n",
       "      <th>...</th>\n",
       "      <th>audiophilecount</th>\n",
       "      <th>neurotoxincount</th>\n",
       "      <th>derisioncount</th>\n",
       "      <th>cidcount</th>\n",
       "      <th>sarcasitccount</th>\n",
       "      <th>pansiecount</th>\n",
       "      <th>absurditycount</th>\n",
       "      <th>impressivenesscount</th>\n",
       "      <th>skynetcount</th>\n",
       "      <th>fighter_imagescount</th>\n",
       "    </tr>\n",
       "  </thead>\n",
       "  <tbody>\n",
       "    <tr>\n",
       "      <th>0</th>\n",
       "      <td>Because we aren't responsible for the actions ...</td>\n",
       "      <td>1430438401</td>\n",
       "      <td>1</td>\n",
       "      <td>328</td>\n",
       "      <td>0</td>\n",
       "      <td>0</td>\n",
       "      <td>0</td>\n",
       "      <td>0</td>\n",
       "      <td>0</td>\n",
       "      <td>0</td>\n",
       "      <td>...</td>\n",
       "      <td>0</td>\n",
       "      <td>0</td>\n",
       "      <td>0</td>\n",
       "      <td>0</td>\n",
       "      <td>0</td>\n",
       "      <td>0</td>\n",
       "      <td>0</td>\n",
       "      <td>0</td>\n",
       "      <td>0</td>\n",
       "      <td>0</td>\n",
       "    </tr>\n",
       "    <tr>\n",
       "      <th>1</th>\n",
       "      <td>I honestly wouldn't have believed it if I didn...</td>\n",
       "      <td>1430438402</td>\n",
       "      <td>1</td>\n",
       "      <td>38</td>\n",
       "      <td>0</td>\n",
       "      <td>0</td>\n",
       "      <td>0</td>\n",
       "      <td>0</td>\n",
       "      <td>0</td>\n",
       "      <td>0</td>\n",
       "      <td>...</td>\n",
       "      <td>0</td>\n",
       "      <td>0</td>\n",
       "      <td>0</td>\n",
       "      <td>0</td>\n",
       "      <td>0</td>\n",
       "      <td>0</td>\n",
       "      <td>0</td>\n",
       "      <td>0</td>\n",
       "      <td>0</td>\n",
       "      <td>0</td>\n",
       "    </tr>\n",
       "    <tr>\n",
       "      <th>2</th>\n",
       "      <td>There is also many intelligence service player...</td>\n",
       "      <td>1430438402</td>\n",
       "      <td>1</td>\n",
       "      <td>32</td>\n",
       "      <td>0</td>\n",
       "      <td>0</td>\n",
       "      <td>0</td>\n",
       "      <td>0</td>\n",
       "      <td>0</td>\n",
       "      <td>0</td>\n",
       "      <td>...</td>\n",
       "      <td>0</td>\n",
       "      <td>0</td>\n",
       "      <td>0</td>\n",
       "      <td>0</td>\n",
       "      <td>0</td>\n",
       "      <td>0</td>\n",
       "      <td>0</td>\n",
       "      <td>0</td>\n",
       "      <td>0</td>\n",
       "      <td>0</td>\n",
       "    </tr>\n",
       "    <tr>\n",
       "      <th>3</th>\n",
       "      <td>The implications of that varies between cultur...</td>\n",
       "      <td>1430438405</td>\n",
       "      <td>1</td>\n",
       "      <td>10</td>\n",
       "      <td>0</td>\n",
       "      <td>0</td>\n",
       "      <td>0</td>\n",
       "      <td>0</td>\n",
       "      <td>0</td>\n",
       "      <td>0</td>\n",
       "      <td>...</td>\n",
       "      <td>0</td>\n",
       "      <td>0</td>\n",
       "      <td>0</td>\n",
       "      <td>0</td>\n",
       "      <td>0</td>\n",
       "      <td>0</td>\n",
       "      <td>0</td>\n",
       "      <td>0</td>\n",
       "      <td>0</td>\n",
       "      <td>0</td>\n",
       "    </tr>\n",
       "    <tr>\n",
       "      <th>4</th>\n",
       "      <td>*I am a bot whose sole purpose is to improve t...</td>\n",
       "      <td>1430438406</td>\n",
       "      <td>1</td>\n",
       "      <td>297</td>\n",
       "      <td>0</td>\n",
       "      <td>0</td>\n",
       "      <td>0</td>\n",
       "      <td>0</td>\n",
       "      <td>0</td>\n",
       "      <td>0</td>\n",
       "      <td>...</td>\n",
       "      <td>0</td>\n",
       "      <td>0</td>\n",
       "      <td>0</td>\n",
       "      <td>0</td>\n",
       "      <td>0</td>\n",
       "      <td>0</td>\n",
       "      <td>0</td>\n",
       "      <td>0</td>\n",
       "      <td>0</td>\n",
       "      <td>0</td>\n",
       "    </tr>\n",
       "  </tbody>\n",
       "</table>\n",
       "<p>5 rows × 1002 columns</p>\n",
       "</div>"
      ],
      "text/plain": [
       "                                                body  created_utc  \\\n",
       "0  Because we aren't responsible for the actions ...   1430438401   \n",
       "1  I honestly wouldn't have believed it if I didn...   1430438402   \n",
       "2  There is also many intelligence service player...   1430438402   \n",
       "3  The implications of that varies between cultur...   1430438405   \n",
       "4  *I am a bot whose sole purpose is to improve t...   1430438406   \n",
       "\n",
       "   controversiality  length  つーかリンク先読んだらナチュラルにテンプレ通りの政治スレ禁止厨でワロタcount  \\\n",
       "0                 1     328                                         0   \n",
       "1                 1      38                                         0   \n",
       "2                 1      32                                         0   \n",
       "3                 1      10                                         0   \n",
       "4                 1     297                                         0   \n",
       "\n",
       "   starlogcount  mincomecount  母乳って元々血液なんだっけcount  bulletingcount  \\\n",
       "0             0             0                   0               0   \n",
       "1             0             0                   0               0   \n",
       "2             0             0                   0               0   \n",
       "3             0             0                   0               0   \n",
       "4             0             0                   0               0   \n",
       "\n",
       "   inexorablycount         ...           audiophilecount  neurotoxincount  \\\n",
       "0                0         ...                         0                0   \n",
       "1                0         ...                         0                0   \n",
       "2                0         ...                         0                0   \n",
       "3                0         ...                         0                0   \n",
       "4                0         ...                         0                0   \n",
       "\n",
       "   derisioncount  cidcount  sarcasitccount  pansiecount  absurditycount  \\\n",
       "0              0         0               0            0               0   \n",
       "1              0         0               0            0               0   \n",
       "2              0         0               0            0               0   \n",
       "3              0         0               0            0               0   \n",
       "4              0         0               0            0               0   \n",
       "\n",
       "   impressivenesscount  skynetcount  fighter_imagescount  \n",
       "0                    0            0                    0  \n",
       "1                    0            0                    0  \n",
       "2                    0            0                    0  \n",
       "3                    0            0                    0  \n",
       "4                    0            0                    0  \n",
       "\n",
       "[5 rows x 1002 columns]"
      ]
     },
     "execution_count": 15,
     "metadata": {},
     "output_type": "execute_result"
    }
   ],
   "source": [
    "df.head(5)"
   ]
  },
  {
   "cell_type": "code",
   "execution_count": null,
   "metadata": {
    "collapsed": false
   },
   "outputs": [],
   "source": [
    "import numpy as np \n",
    "from sklearn.linear_model import LassoCV, lasso_path\n",
    "from sklearn.cross_validation import cross_val_score \n",
    "lasso_fit = LassoCV(cv = 10, n_alphas=50, max_iter=100000, normalize=True)\n",
    "dfminusresponse=df.drop('controversiality',axis=1)\n",
    "dfminusresponse=dfminusresponse.drop('body',axis=1)\n",
    "lasso_fit.fit(dfminusresponse, df['controversiality'])\n",
    "lasso_fit.coef_"
   ]
  },
  {
   "cell_type": "code",
   "execution_count": null,
   "metadata": {
    "collapsed": false
   },
   "outputs": [],
   "source": [
    "i=0\n",
    "j=0\n",
    "for element in lasso_fit.coef_:\n",
    "    if element>0:\n",
    "        i+=1\n",
    "    else:\n",
    "        j+=1\n",
    "print(i,j)\n"
   ]
  },
  {
   "cell_type": "code",
   "execution_count": null,
   "metadata": {
    "collapsed": false
   },
   "outputs": [],
   "source": [
    "df"
   ]
  },
  {
   "cell_type": "code",
   "execution_count": null,
   "metadata": {
    "collapsed": false
   },
   "outputs": [],
   "source": [
    "from sklearn.linear_model import ElasticNet\n",
    "elastic_fit=ElasticNet(alpha=50,l1_ratio=.9,max_iter=100000,normalize=True)\n",
    "elastic_fit.fit(df.drop('controversiality',axis=1).drop('body',axis=1),df['controversiality'])"
   ]
  },
  {
   "cell_type": "code",
   "execution_count": null,
   "metadata": {
    "collapsed": false
   },
   "outputs": [],
   "source": [
    "i=0\n",
    "for value in lasso_fit.coef_:\n",
    "    if value==0:\n",
    "        \n",
    "    i+=1"
   ]
  },
  {
   "cell_type": "code",
   "execution_count": null,
   "metadata": {
    "collapsed": false
   },
   "outputs": [],
   "source": [
    "i=1\n",
    "col=[]\n",
    "for coef in lasso_fit.coef_:\n",
    "    if coef==0:\n",
    "        col.append(i)\n",
    "    i+=1\n",
    "df=df.drop('prediction',axis=1)"
   ]
  },
  {
   "cell_type": "code",
   "execution_count": null,
   "metadata": {
    "collapsed": true
   },
   "outputs": [],
   "source": [
    "new_df=df.drop('body',axis=1).drop('controversiality',axis=1).drop(df.columns[col],axis=1)\n"
   ]
  },
  {
   "cell_type": "code",
   "execution_count": null,
   "metadata": {
    "collapsed": false
   },
   "outputs": [],
   "source": [
    "from sklearn.linear_model import LogisticRegression\n",
    "model1=LogisticRegression()\n",
    "model1.fit(new_df,df['controversiality'])\n"
   ]
  },
  {
   "cell_type": "code",
   "execution_count": null,
   "metadata": {
    "collapsed": false
   },
   "outputs": [],
   "source": []
  },
  {
   "cell_type": "code",
   "execution_count": null,
   "metadata": {
    "collapsed": false
   },
   "outputs": [],
   "source": [
    "print(len(df.ix[df['controversiality']==0])/len(df))\n",
    "print(model1.score(new_df,df['controversiality']))"
   ]
  },
  {
   "cell_type": "markdown",
   "metadata": {},
   "source": [
    "## Ignore"
   ]
  },
  {
   "cell_type": "code",
   "execution_count": null,
   "metadata": {
    "collapsed": false
   },
   "outputs": [],
   "source": [
    "from nltk.tokenize import word_tokenize          \n",
    "import operator\n",
    "\n",
    "df['body'] = df['body'].astype('str')\n",
    "\n",
    "comments = df['body']\n",
    "\n",
    "word_count={}\n",
    "punctuations = '''`!()-[]{};:'\"\\,<>./?@#$%^&*_~=+ '''\n",
    "\n",
    "for comment in comments:\n",
    "    for word in word_tokenize(comment.lower()):\n",
    "        if word not in punctuations:\n",
    "            if word in word_count:\n",
    "                word_count[word] += 1\n",
    "            else:\n",
    "                word_count[word] = 1\n",
    "\n",
    "sorted_x = sorted(word_count.items(), key=operator.itemgetter(1), reverse=True)"
   ]
  },
  {
   "cell_type": "code",
   "execution_count": null,
   "metadata": {
    "collapsed": false
   },
   "outputs": [],
   "source": []
  },
  {
   "cell_type": "code",
   "execution_count": null,
   "metadata": {
    "collapsed": false
   },
   "outputs": [],
   "source": []
  },
  {
   "cell_type": "code",
   "execution_count": null,
   "metadata": {
    "collapsed": true
   },
   "outputs": [],
   "source": []
  }
 ],
 "metadata": {
  "kernelspec": {
   "display_name": "Python 3",
   "language": "python",
   "name": "python3"
  },
  "language_info": {
   "codemirror_mode": {
    "name": "ipython",
    "version": 3
   },
   "file_extension": ".py",
   "mimetype": "text/x-python",
   "name": "python",
   "nbconvert_exporter": "python",
   "pygments_lexer": "ipython3",
   "version": "3.5.2"
  }
 },
 "nbformat": 4,
 "nbformat_minor": 1
}

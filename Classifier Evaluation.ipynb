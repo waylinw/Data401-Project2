{
 "cells": [
  {
   "cell_type": "markdown",
   "metadata": {},
   "source": [
    "Put this notebook in the same directory as `classifier.py` containing your implementation of Classifier."
   ]
  },
  {
   "cell_type": "code",
   "execution_count": 1,
   "metadata": {
    "collapsed": false
   },
   "outputs": [
    {
     "name": "stderr",
     "output_type": "stream",
     "text": [
      "/opt/conda/lib/python3.5/site-packages/sklearn/cross_validation.py:44: DeprecationWarning: This module was deprecated in version 0.18 in favor of the model_selection module into which all the refactored classes and functions are moved. Also note that the interface of the new CV iterators are different from that of this module. This module will be removed in 0.20.\n",
      "  \"This module will be removed in 0.20.\", DeprecationWarning)\n"
     ]
    }
   ],
   "source": [
    "from classifier import Classifier\n",
    "from time import time\n",
    "import csv\n",
    "from io import StringIO"
   ]
  },
  {
   "cell_type": "code",
   "execution_count": 2,
   "metadata": {
    "collapsed": false
   },
   "outputs": [],
   "source": [
    "classifier = Classifier()"
   ]
  },
  {
   "cell_type": "markdown",
   "metadata": {},
   "source": [
    "## Training"
   ]
  },
  {
   "cell_type": "code",
   "execution_count": 3,
   "metadata": {
    "collapsed": false
   },
   "outputs": [
    {
     "name": "stdout",
     "output_type": "stream",
     "text": [
      "Am I the only one here to look past the hotness and think \"who dafuq sleeps in that attire and with their necklace and makeup on?\"\n",
      "(130, 50000)\n",
      "featureidx:  []\n",
      "feature-values:  []\n",
      "Rip chuckie\n",
      "(11, 50000)\n",
      "featureidx:  []\n",
      "feature-values:  []\n",
      "I don't know the exact differences but pretty sure Cali is much stricter, which is why we have a full time Price Auditor. \n",
      "(122, 50000)\n",
      "featureidx:  []\n",
      "feature-values:  []\n",
      "God damn I hate those. I see resume sites all the time from fellow CS students which have huge full screen slideshows of pictures of the person. Looks ridiculous. Employers seem to like it though.\n",
      "\n",
      "I think the information should be more emphasized than posed pictures of the person helping out a community.\n",
      "(306, 50000)\n",
      "featureidx:  []\n",
      "feature-values:  []\n",
      "Heh so I did. Thanks!!\n",
      "(22, 50000)\n",
      "featureidx:  []\n",
      "feature-values:  []\n",
      "[deleted]\n",
      "(9, 50000)\n",
      "featureidx:  []\n",
      "feature-values:  []\n",
      "Samaa mieltä. Harmi vaan että toisinpäin homma ei sitten onnistukkaan. Sivari ei taida päästä armeijaan vaikka kuinka haluaisi, paitsi tietysti sitten kun varsinaiset kahinat alkaa.\n",
      "(181, 50000)\n",
      "featureidx:  []\n",
      "feature-values:  []\n",
      "Or [post cats](https://www.google.com/search?q=cat+on+post&amp;espv=2&amp;biw=1280&amp;bih=675&amp;source=lnms&amp;tbm=isch&amp;sa=X&amp;ei=2f1IVeKQOMLioASVmYHoBg&amp;ved=0CAYQ_AUoAQ).\n",
      "(184, 50000)\n",
      "featureidx:  []\n",
      "feature-values:  []\n",
      "New Jersey or Boston both are turn offs for me in a lady. But I will say that Amy Adams in \"the Fighter\" was still hot.\n",
      "(119, 50000)\n",
      "featureidx:  []\n",
      "feature-values:  []\n",
      "I agree\n",
      "(7, 50000)\n",
      "featureidx:  []\n",
      "feature-values:  []\n"
     ]
    }
   ],
   "source": [
    "with open(\"/data/reddit9.csv\", newline=\"\") as f:\n",
    "    reader = csv.reader(f)\n",
    "    next(reader) # skip header row\n",
    "    \n",
    "    # allow classifier to train for 5 minutes\n",
    "    tic = time()\n",
    "    k = 1\n",
    "    #while time() - tic < 300:\n",
    "    while k + 1 < 3 :\n",
    "        # get 10 comments at a time\n",
    "        try:\n",
    "            rows = []\n",
    "            for _ in range(10):\n",
    "                rows.append(next(reader))\n",
    "        except StopIteration:\n",
    "            break\n",
    "        \n",
    "        # convert list of rows to a CSV string\n",
    "        output = StringIO()\n",
    "        writer = csv.writer(output)\n",
    "        writer.writerows(rows)\n",
    "        data = output.getvalue()\n",
    "        \n",
    "        # update classifier with data\n",
    "        classifier.update(data)\n",
    "        k += 1"
   ]
  },
  {
   "cell_type": "markdown",
   "metadata": {},
   "source": [
    "## Prediction"
   ]
  },
  {
   "cell_type": "code",
   "execution_count": null,
   "metadata": {
    "collapsed": true
   },
   "outputs": [],
   "source": [
    "def get_metrics(score):\n",
    "    total = score[\"TP\"] + score[\"TN\"] + score[\"FP\"] + score[\"FN\"]\n",
    "    accuracy = 0 if total == 0 else 100 * (score[\"TP\"] + score[\"TN\"]) / total\n",
    "    precision = 0 if (score[\"TP\"] + score[\"FP\"]) == 0 else 100 * score[\"TP\"] / (score[\"TP\"] + score[\"FP\"])\n",
    "    recall = 0 if (score[\"TP\"] + score[\"FN\"]) == 0 else 100 * score[\"TP\"] / (score[\"TP\"] + score[\"FN\"])\n",
    "    f1 = 0 if precision == 0 or recall == 0 else 2 / (1 / precision + 1 / recall)\n",
    "    \n",
    "    return accuracy, precision, recall, f1"
   ]
  },
  {
   "cell_type": "code",
   "execution_count": null,
   "metadata": {
    "collapsed": false
   },
   "outputs": [],
   "source": [
    "score = {\n",
    "    \"TP\": 0, \n",
    "    \"FP\": 0,\n",
    "    \"TN\": 0,\n",
    "    \"FN\": 0\n",
    "}\n",
    "\n",
    "total = 100000\n",
    "\n",
    "with open(\"/data/reddit10.csv\", newline=\"\") as f:\n",
    "    reader = csv.reader(f)\n",
    "    next(reader) # skip header row\n",
    "    \n",
    "    # predict the class for 100000 posts, 100 at a time\n",
    "    batch = 0\n",
    "    while batch < total / 100:\n",
    "        \n",
    "        # get comments in batches of 100\n",
    "        try:\n",
    "            rows = []\n",
    "            for _ in range(100):\n",
    "                rows.append(next(reader))\n",
    "        except StopIteration:\n",
    "            break\n",
    "            \n",
    "        # get correct answers and strip data\n",
    "        correct = []\n",
    "        for i, row in enumerate(rows):\n",
    "            correct.append(row[20])\n",
    "            for j in [1, 5, 10, 11, 12, 13, 15, 16, 18, 19, 20]:\n",
    "                rows[i][j] = \"\"\n",
    "        \n",
    "        # convert list of rows to a CSV string\n",
    "        output = StringIO()\n",
    "        writer = csv.writer(output)\n",
    "        writer.writerows(rows)\n",
    "        data = output.getvalue()\n",
    "        \n",
    "        # update classifier with data\n",
    "        predictions = classifier.predict(data)\n",
    "        \n",
    "        # evaluate predictions against ground truth\n",
    "        for p, c in zip(predictions, correct):\n",
    "            if int(p) == 1:\n",
    "                if int(c) == 1:\n",
    "                    score[\"TP\"] += 1\n",
    "                else:\n",
    "                    score[\"FP\"] += 1\n",
    "            elif int(p) == 0:\n",
    "                if int(c) == 1:\n",
    "                    score[\"FN\"] += 1\n",
    "                else:\n",
    "                    score[\"TN\"] += 1\n",
    "            else:\n",
    "                raise Exception(\"invalid prediction\")\n",
    "    \n",
    "        batch += 1\n",
    "        if batch % 100 == 0:\n",
    "            print(\"Accuracy: %.2f, Precision: %.2f, Recall: %.2f, F1: %.2f\" % get_metrics(score))\n",
    "            \n",
    "    print(\"Accuracy: %.2f, Precision: %.2f, Recall: %.2f, F1: %.2f\" % get_metrics(score))\n",
    "        "
   ]
  }
 ],
 "metadata": {
  "kernelspec": {
   "display_name": "Python 3",
   "language": "python",
   "name": "python3"
  },
  "language_info": {
   "codemirror_mode": {
    "name": "ipython",
    "version": 3
   },
   "file_extension": ".py",
   "mimetype": "text/x-python",
   "name": "python",
   "nbconvert_exporter": "python",
   "pygments_lexer": "ipython3",
   "version": "3.5.2"
  }
 },
 "nbformat": 4,
 "nbformat_minor": 1
}

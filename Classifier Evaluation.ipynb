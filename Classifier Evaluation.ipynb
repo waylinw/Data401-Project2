{
 "cells": [
  {
   "cell_type": "markdown",
   "metadata": {},
   "source": [
    "Put this notebook in the same directory as `classifier.py` containing your implementation of Classifier."
   ]
  },
  {
   "cell_type": "code",
   "execution_count": 1,
   "metadata": {
    "collapsed": false
   },
   "outputs": [
    {
     "name": "stderr",
     "output_type": "stream",
     "text": [
      "/opt/conda/lib/python3.5/site-packages/sklearn/cross_validation.py:44: DeprecationWarning: This module was deprecated in version 0.18 in favor of the model_selection module into which all the refactored classes and functions are moved. Also note that the interface of the new CV iterators are different from that of this module. This module will be removed in 0.20.\n",
      "  \"This module will be removed in 0.20.\", DeprecationWarning)\n"
     ]
    }
   ],
   "source": [
    "from classifier import Classifier\n",
    "from time import time\n",
    "import csv\n",
    "from io import StringIO"
   ]
  },
  {
   "cell_type": "code",
   "execution_count": 2,
   "metadata": {
    "collapsed": false
   },
   "outputs": [],
   "source": [
    "classifier = Classifier()"
   ]
  },
  {
   "cell_type": "markdown",
   "metadata": {},
   "source": [
    "## Training"
   ]
  },
  {
   "cell_type": "code",
   "execution_count": 3,
   "metadata": {
    "collapsed": false
   },
   "outputs": [
    {
     "ename": "NameError",
     "evalue": "name 'total' is not defined",
     "output_type": "error",
     "traceback": [
      "\u001b[0;31m---------------------------------------------------------------------------\u001b[0m",
      "\u001b[0;31mNameError\u001b[0m                                 Traceback (most recent call last)",
      "\u001b[0;32m<ipython-input-3-7e740aac105f>\u001b[0m in \u001b[0;36m<module>\u001b[0;34m()\u001b[0m\n\u001b[1;32m     23\u001b[0m \u001b[0;34m\u001b[0m\u001b[0m\n\u001b[1;32m     24\u001b[0m         \u001b[0;31m# update classifier with data\u001b[0m\u001b[0;34m\u001b[0m\u001b[0;34m\u001b[0m\u001b[0m\n\u001b[0;32m---> 25\u001b[0;31m         \u001b[0mclassifier\u001b[0m\u001b[0;34m.\u001b[0m\u001b[0mupdate\u001b[0m\u001b[0;34m(\u001b[0m\u001b[0mdata\u001b[0m\u001b[0;34m)\u001b[0m\u001b[0;34m\u001b[0m\u001b[0m\n\u001b[0m\u001b[1;32m     26\u001b[0m         \u001b[0mk\u001b[0m \u001b[0;34m+=\u001b[0m \u001b[0;36m1\u001b[0m\u001b[0;34m\u001b[0m\u001b[0m\n",
      "\u001b[0;32m/home/waylinw/Project2/classifier.py\u001b[0m in \u001b[0;36mupdate\u001b[0;34m(self, data)\u001b[0m\n\u001b[1;32m     51\u001b[0m \u001b[0;34m\u001b[0m\u001b[0m\n\u001b[1;32m     52\u001b[0m                 \u001b[0mcorrect\u001b[0m \u001b[0;34m+=\u001b[0m \u001b[0;36m1\u001b[0m \u001b[0;34m*\u001b[0m \u001b[0;34m(\u001b[0m\u001b[0mabs\u001b[0m\u001b[0;34m(\u001b[0m\u001b[0mresid\u001b[0m\u001b[0;34m)\u001b[0m \u001b[0;34m<\u001b[0m \u001b[0;36m.5\u001b[0m\u001b[0;34m)\u001b[0m\u001b[0;34m\u001b[0m\u001b[0m\n\u001b[0;32m---> 53\u001b[0;31m             \u001b[0mprint\u001b[0m\u001b[0;34m(\u001b[0m\u001b[0mcorrect\u001b[0m\u001b[0;34m/\u001b[0m\u001b[0mtotal\u001b[0m\u001b[0;34m)\u001b[0m\u001b[0;34m\u001b[0m\u001b[0m\n\u001b[0m\u001b[1;32m     54\u001b[0m                     \u001b[0;31m# determine whether prediction was correct\u001b[0m\u001b[0;34m\u001b[0m\u001b[0;34m\u001b[0m\u001b[0m\n\u001b[1;32m     55\u001b[0m                     \u001b[0;31m#correct += 1 * (abs(resid) < .5)\u001b[0m\u001b[0;34m\u001b[0m\u001b[0;34m\u001b[0m\u001b[0m\n",
      "\u001b[0;31mNameError\u001b[0m: name 'total' is not defined"
     ]
    }
   ],
   "source": [
    "with open(\"/data/reddit9.csv\", newline=\"\") as f:\n",
    "    reader = csv.reader(f)\n",
    "    next(reader) # skip header row\n",
    "    \n",
    "    # allow classifier to train for 5 minutes\n",
    "    tic = time()\n",
    "    k = 1\n",
    "    #while time() - tic < 300:\n",
    "    while k + 1 < 3 :\n",
    "        # get 10 comments at a time\n",
    "        try:\n",
    "            rows = []\n",
    "            for _ in range(1):\n",
    "                rows.append(next(reader))\n",
    "        except StopIteration:\n",
    "            break\n",
    "        \n",
    "        # convert list of rows to a CSV string\n",
    "        output = StringIO()\n",
    "        writer = csv.writer(output)\n",
    "        writer.writerows(rows)\n",
    "        data = output.getvalue()\n",
    "        \n",
    "        # update classifier with data\n",
    "        classifier.update(data)\n",
    "        k += 1"
   ]
  },
  {
   "cell_type": "markdown",
   "metadata": {},
   "source": [
    "## Prediction"
   ]
  },
  {
   "cell_type": "code",
   "execution_count": null,
   "metadata": {
    "collapsed": true
   },
   "outputs": [],
   "source": [
    "def get_metrics(score):\n",
    "    total = score[\"TP\"] + score[\"TN\"] + score[\"FP\"] + score[\"FN\"]\n",
    "    accuracy = 0 if total == 0 else 100 * (score[\"TP\"] + score[\"TN\"]) / total\n",
    "    precision = 0 if (score[\"TP\"] + score[\"FP\"]) == 0 else 100 * score[\"TP\"] / (score[\"TP\"] + score[\"FP\"])\n",
    "    recall = 0 if (score[\"TP\"] + score[\"FN\"]) == 0 else 100 * score[\"TP\"] / (score[\"TP\"] + score[\"FN\"])\n",
    "    f1 = 0 if precision == 0 or recall == 0 else 2 / (1 / precision + 1 / recall)\n",
    "    \n",
    "    return accuracy, precision, recall, f1"
   ]
  },
  {
   "cell_type": "code",
   "execution_count": null,
   "metadata": {
    "collapsed": false
   },
   "outputs": [],
   "source": [
    "score = {\n",
    "    \"TP\": 0, \n",
    "    \"FP\": 0,\n",
    "    \"TN\": 0,\n",
    "    \"FN\": 0\n",
    "}\n",
    "\n",
    "total = 100000\n",
    "\n",
    "with open(\"/data/reddit10.csv\", newline=\"\") as f:\n",
    "    reader = csv.reader(f)\n",
    "    next(reader) # skip header row\n",
    "    \n",
    "    # predict the class for 100000 posts, 100 at a time\n",
    "    batch = 0\n",
    "    while batch < total / 100:\n",
    "        \n",
    "        # get comments in batches of 100\n",
    "        try:\n",
    "            rows = []\n",
    "            for _ in range(100):\n",
    "                rows.append(next(reader))\n",
    "        except StopIteration:\n",
    "            break\n",
    "            \n",
    "        # get correct answers and strip data\n",
    "        correct = []\n",
    "        for i, row in enumerate(rows):\n",
    "            correct.append(row[20])\n",
    "            for j in [1, 5, 10, 11, 12, 13, 15, 16, 18, 19, 20]:\n",
    "                rows[i][j] = \"\"\n",
    "        \n",
    "        # convert list of rows to a CSV string\n",
    "        output = StringIO()\n",
    "        writer = csv.writer(output)\n",
    "        writer.writerows(rows)\n",
    "        data = output.getvalue()\n",
    "        \n",
    "        # update classifier with data\n",
    "        predictions = classifier.predict(data)\n",
    "        \n",
    "        # evaluate predictions against ground truth\n",
    "        for p, c in zip(predictions, correct):\n",
    "            if int(p) == 1:\n",
    "                if int(c) == 1:\n",
    "                    score[\"TP\"] += 1\n",
    "                else:\n",
    "                    score[\"FP\"] += 1\n",
    "            elif int(p) == 0:\n",
    "                if int(c) == 1:\n",
    "                    score[\"FN\"] += 1\n",
    "                else:\n",
    "                    score[\"TN\"] += 1\n",
    "            else:\n",
    "                raise Exception(\"invalid prediction\")\n",
    "    \n",
    "        batch += 1\n",
    "        if batch % 100 == 0:\n",
    "            print(\"Accuracy: %.2f, Precision: %.2f, Recall: %.2f, F1: %.2f\" % get_metrics(score))\n",
    "            \n",
    "    print(\"Accuracy: %.2f, Precision: %.2f, Recall: %.2f, F1: %.2f\" % get_metrics(score))\n",
    "        "
   ]
  }
 ],
 "metadata": {
  "kernelspec": {
   "display_name": "Python 3",
   "language": "python",
   "name": "python3"
  },
  "language_info": {
   "codemirror_mode": {
    "name": "ipython",
    "version": 3
   },
   "file_extension": ".py",
   "mimetype": "text/x-python",
   "name": "python",
   "nbconvert_exporter": "python",
   "pygments_lexer": "ipython3",
   "version": "3.5.2"
  }
 },
 "nbformat": 4,
 "nbformat_minor": 1
}
